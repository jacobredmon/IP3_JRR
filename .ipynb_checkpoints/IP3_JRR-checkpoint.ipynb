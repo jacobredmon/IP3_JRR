{
 "cells": [
  {
   "cell_type": "markdown",
   "metadata": {},
   "source": [
    "# Individual Project 3 \n",
    "---  \n",
    "**Author:** Jacob Redmon  \n",
    "**Version:** 1.0  \n",
    "**Semester:** Spring 2021  \n",
    "**Summary:**  \n",
    "\n",
    "The goal of this project is to use some of the features/functions provided by the Python Pandas library to clean up a data set and then visualize it with Pandas/Matplotlib/Seaborn."
   ]
  },
  {
   "cell_type": "markdown",
   "metadata": {},
   "source": [
    "## 0. Imports"
   ]
  },
  {
   "cell_type": "code",
   "execution_count": 1,
   "metadata": {},
   "outputs": [],
   "source": [
    "import pandas as pd\n",
    "import numpy as np\n",
    "import matplotlib.pyplot as plt\n",
    "import seaborn as sns\n",
    "%matplotlib inline"
   ]
  },
  {
   "cell_type": "markdown",
   "metadata": {},
   "source": [
    "# Part 1"
   ]
  },
  {
   "cell_type": "markdown",
   "metadata": {},
   "source": [
    "## 1. Merging the Datasets"
   ]
  },
  {
   "cell_type": "markdown",
   "metadata": {},
   "source": [
    "Write a function that takes a filename and returns a dataframe.  \n",
    "Convert the Date column to a date.  \n",
    "Add a column called `Company` that contains the Company name."
   ]
  },
  {
   "cell_type": "code",
   "execution_count": 2,
   "metadata": {},
   "outputs": [],
   "source": [
    "def import_into_dataframe(filename):\n",
    "    globals()['df_'+filename] = pd.read_csv(filename + '.csv')\n",
    "    globals()['df_'+filename]['Date'] = pd.to_datetime(globals()['df_'+filename]['Date'], dayfirst=True)\n",
    "    globals()['df_'+filename].insert(0, 'Company', filename)\n",
    "    return globals()['df_'+filename]"
   ]
  },
  {
   "cell_type": "markdown",
   "metadata": {},
   "source": [
    "Execute your function four times, passing each file to it. Once complete, you will have four dataframes that you can merge."
   ]
  },
  {
   "cell_type": "code",
   "execution_count": 3,
   "metadata": {},
   "outputs": [],
   "source": [
    "d = ['50Hertz', 'Amprion', 'TenneTTSO', 'TransnetBW']\n",
    "for i in d:\n",
    "    import_into_dataframe(i)"
   ]
  },
  {
   "cell_type": "markdown",
   "metadata": {},
   "source": [
    "Stack the dataframes on top of each to produce one large dataframe that has 98 columns, one for company, one for date and one for each timepoint"
   ]
  },
  {
   "cell_type": "code",
   "execution_count": 4,
   "metadata": {},
   "outputs": [],
   "source": [
    "df = pd.concat([df_50Hertz, df_Amprion, df_TenneTTSO, df_TransnetBW])"
   ]
  },
  {
   "cell_type": "markdown",
   "metadata": {},
   "source": [
    "## 2. Visualizing Data"
   ]
  },
  {
   "cell_type": "markdown",
   "metadata": {},
   "source": [
    "Create a new dataframe that is grouped by `Company` and the year (e.g. `50Hertz 2019`, `50Hertz 2020`, etc.)."
   ]
  },
  {
   "cell_type": "code",
   "execution_count": 5,
   "metadata": {},
   "outputs": [
    {
     "data": {
      "text/html": [
       "<div>\n",
       "<style scoped>\n",
       "    .dataframe tbody tr th:only-of-type {\n",
       "        vertical-align: middle;\n",
       "    }\n",
       "\n",
       "    .dataframe tbody tr th {\n",
       "        vertical-align: top;\n",
       "    }\n",
       "\n",
       "    .dataframe thead th {\n",
       "        text-align: right;\n",
       "    }\n",
       "</style>\n",
       "<table border=\"1\" class=\"dataframe\">\n",
       "  <thead>\n",
       "    <tr style=\"text-align: right;\">\n",
       "      <th></th>\n",
       "      <th></th>\n",
       "      <th>00:00:00</th>\n",
       "      <th>00:15:00</th>\n",
       "      <th>00:30:00</th>\n",
       "      <th>00:45:00</th>\n",
       "      <th>01:00:00</th>\n",
       "      <th>01:15:00</th>\n",
       "      <th>01:30:00</th>\n",
       "      <th>01:45:00</th>\n",
       "      <th>02:00:00</th>\n",
       "      <th>02:15:00</th>\n",
       "      <th>...</th>\n",
       "      <th>21:30:00</th>\n",
       "      <th>21:45:00</th>\n",
       "      <th>22:00:00</th>\n",
       "      <th>22:15:00</th>\n",
       "      <th>22:30:00</th>\n",
       "      <th>22:45:00</th>\n",
       "      <th>23:00:00</th>\n",
       "      <th>23:15:00</th>\n",
       "      <th>23:30:00</th>\n",
       "      <th>23:45:00</th>\n",
       "    </tr>\n",
       "    <tr>\n",
       "      <th>Company</th>\n",
       "      <th>Date</th>\n",
       "      <th></th>\n",
       "      <th></th>\n",
       "      <th></th>\n",
       "      <th></th>\n",
       "      <th></th>\n",
       "      <th></th>\n",
       "      <th></th>\n",
       "      <th></th>\n",
       "      <th></th>\n",
       "      <th></th>\n",
       "      <th></th>\n",
       "      <th></th>\n",
       "      <th></th>\n",
       "      <th></th>\n",
       "      <th></th>\n",
       "      <th></th>\n",
       "      <th></th>\n",
       "      <th></th>\n",
       "      <th></th>\n",
       "      <th></th>\n",
       "      <th></th>\n",
       "    </tr>\n",
       "  </thead>\n",
       "  <tbody>\n",
       "    <tr>\n",
       "      <th rowspan=\"2\" valign=\"top\">50Hertz</th>\n",
       "      <th>2019</th>\n",
       "      <td>143.320611</td>\n",
       "      <td>142.351145</td>\n",
       "      <td>142.366412</td>\n",
       "      <td>142.000000</td>\n",
       "      <td>141.900763</td>\n",
       "      <td>141.381679</td>\n",
       "      <td>140.648855</td>\n",
       "      <td>140.923664</td>\n",
       "      <td>140.732824</td>\n",
       "      <td>140.458015</td>\n",
       "      <td>...</td>\n",
       "      <td>144.328244</td>\n",
       "      <td>144.839695</td>\n",
       "      <td>144.709924</td>\n",
       "      <td>144.641221</td>\n",
       "      <td>144.442748</td>\n",
       "      <td>144.274809</td>\n",
       "      <td>144.954198</td>\n",
       "      <td>144.206107</td>\n",
       "      <td>144.076336</td>\n",
       "      <td>144.259542</td>\n",
       "    </tr>\n",
       "    <tr>\n",
       "      <th>2020</th>\n",
       "      <td>141.894737</td>\n",
       "      <td>141.124060</td>\n",
       "      <td>140.936090</td>\n",
       "      <td>140.838346</td>\n",
       "      <td>140.281955</td>\n",
       "      <td>140.037594</td>\n",
       "      <td>139.462406</td>\n",
       "      <td>139.112782</td>\n",
       "      <td>138.646617</td>\n",
       "      <td>138.560150</td>\n",
       "      <td>...</td>\n",
       "      <td>147.590226</td>\n",
       "      <td>147.214286</td>\n",
       "      <td>147.075188</td>\n",
       "      <td>146.661654</td>\n",
       "      <td>145.609023</td>\n",
       "      <td>144.624060</td>\n",
       "      <td>143.864662</td>\n",
       "      <td>143.680451</td>\n",
       "      <td>143.112782</td>\n",
       "      <td>142.338346</td>\n",
       "    </tr>\n",
       "    <tr>\n",
       "      <th rowspan=\"2\" valign=\"top\">Amprion</th>\n",
       "      <th>2019</th>\n",
       "      <td>106.992366</td>\n",
       "      <td>106.679389</td>\n",
       "      <td>106.091603</td>\n",
       "      <td>105.549618</td>\n",
       "      <td>108.083969</td>\n",
       "      <td>108.282443</td>\n",
       "      <td>108.129771</td>\n",
       "      <td>107.465649</td>\n",
       "      <td>107.282443</td>\n",
       "      <td>106.671756</td>\n",
       "      <td>...</td>\n",
       "      <td>115.412214</td>\n",
       "      <td>114.572519</td>\n",
       "      <td>114.076336</td>\n",
       "      <td>112.961832</td>\n",
       "      <td>112.595420</td>\n",
       "      <td>112.427481</td>\n",
       "      <td>111.343511</td>\n",
       "      <td>110.946565</td>\n",
       "      <td>110.328244</td>\n",
       "      <td>107.473282</td>\n",
       "    </tr>\n",
       "    <tr>\n",
       "      <th>2020</th>\n",
       "      <td>93.751880</td>\n",
       "      <td>94.312030</td>\n",
       "      <td>94.424812</td>\n",
       "      <td>94.033835</td>\n",
       "      <td>93.657895</td>\n",
       "      <td>93.563910</td>\n",
       "      <td>93.146617</td>\n",
       "      <td>92.812030</td>\n",
       "      <td>92.571429</td>\n",
       "      <td>92.127820</td>\n",
       "      <td>...</td>\n",
       "      <td>96.515038</td>\n",
       "      <td>96.338346</td>\n",
       "      <td>96.368421</td>\n",
       "      <td>96.379699</td>\n",
       "      <td>96.176692</td>\n",
       "      <td>94.898496</td>\n",
       "      <td>95.018797</td>\n",
       "      <td>94.973684</td>\n",
       "      <td>94.691729</td>\n",
       "      <td>94.383459</td>\n",
       "    </tr>\n",
       "    <tr>\n",
       "      <th rowspan=\"2\" valign=\"top\">TenneTTSO</th>\n",
       "      <th>2019</th>\n",
       "      <td>150.866183</td>\n",
       "      <td>150.450992</td>\n",
       "      <td>150.152901</td>\n",
       "      <td>149.611679</td>\n",
       "      <td>148.946412</td>\n",
       "      <td>148.629847</td>\n",
       "      <td>148.808473</td>\n",
       "      <td>148.620382</td>\n",
       "      <td>148.236031</td>\n",
       "      <td>147.931298</td>\n",
       "      <td>...</td>\n",
       "      <td>152.761908</td>\n",
       "      <td>152.608015</td>\n",
       "      <td>152.675802</td>\n",
       "      <td>152.765115</td>\n",
       "      <td>152.631374</td>\n",
       "      <td>152.897176</td>\n",
       "      <td>152.363740</td>\n",
       "      <td>152.357405</td>\n",
       "      <td>152.236565</td>\n",
       "      <td>151.705496</td>\n",
       "    </tr>\n",
       "    <tr>\n",
       "      <th>2020</th>\n",
       "      <td>141.603835</td>\n",
       "      <td>141.457105</td>\n",
       "      <td>141.203120</td>\n",
       "      <td>141.206278</td>\n",
       "      <td>140.931617</td>\n",
       "      <td>140.642105</td>\n",
       "      <td>140.583008</td>\n",
       "      <td>140.537632</td>\n",
       "      <td>140.579962</td>\n",
       "      <td>140.784511</td>\n",
       "      <td>...</td>\n",
       "      <td>145.523571</td>\n",
       "      <td>144.793947</td>\n",
       "      <td>144.206466</td>\n",
       "      <td>143.894850</td>\n",
       "      <td>143.764248</td>\n",
       "      <td>143.694135</td>\n",
       "      <td>143.535902</td>\n",
       "      <td>142.563008</td>\n",
       "      <td>142.350075</td>\n",
       "      <td>141.976128</td>\n",
       "    </tr>\n",
       "    <tr>\n",
       "      <th rowspan=\"2\" valign=\"top\">TransnetBW</th>\n",
       "      <th>2019</th>\n",
       "      <td>39.293740</td>\n",
       "      <td>39.462290</td>\n",
       "      <td>39.165191</td>\n",
       "      <td>39.138321</td>\n",
       "      <td>39.369084</td>\n",
       "      <td>39.028779</td>\n",
       "      <td>38.834580</td>\n",
       "      <td>38.684504</td>\n",
       "      <td>38.211145</td>\n",
       "      <td>38.427099</td>\n",
       "      <td>...</td>\n",
       "      <td>38.739847</td>\n",
       "      <td>38.871527</td>\n",
       "      <td>38.754275</td>\n",
       "      <td>38.998473</td>\n",
       "      <td>39.014733</td>\n",
       "      <td>39.522290</td>\n",
       "      <td>39.187099</td>\n",
       "      <td>39.421832</td>\n",
       "      <td>39.499924</td>\n",
       "      <td>39.299924</td>\n",
       "    </tr>\n",
       "    <tr>\n",
       "      <th>2020</th>\n",
       "      <td>30.899023</td>\n",
       "      <td>30.604737</td>\n",
       "      <td>30.354023</td>\n",
       "      <td>29.871128</td>\n",
       "      <td>29.731955</td>\n",
       "      <td>29.642481</td>\n",
       "      <td>29.409511</td>\n",
       "      <td>29.432857</td>\n",
       "      <td>29.453045</td>\n",
       "      <td>29.410301</td>\n",
       "      <td>...</td>\n",
       "      <td>31.489662</td>\n",
       "      <td>31.425075</td>\n",
       "      <td>31.569248</td>\n",
       "      <td>31.510526</td>\n",
       "      <td>31.356391</td>\n",
       "      <td>31.330113</td>\n",
       "      <td>31.271917</td>\n",
       "      <td>30.962932</td>\n",
       "      <td>30.978346</td>\n",
       "      <td>30.907481</td>\n",
       "    </tr>\n",
       "  </tbody>\n",
       "</table>\n",
       "<p>8 rows × 96 columns</p>\n",
       "</div>"
      ],
      "text/plain": [
       "                   00:00:00    00:15:00    00:30:00    00:45:00    01:00:00  \\\n",
       "Company    Date                                                               \n",
       "50Hertz    2019  143.320611  142.351145  142.366412  142.000000  141.900763   \n",
       "           2020  141.894737  141.124060  140.936090  140.838346  140.281955   \n",
       "Amprion    2019  106.992366  106.679389  106.091603  105.549618  108.083969   \n",
       "           2020   93.751880   94.312030   94.424812   94.033835   93.657895   \n",
       "TenneTTSO  2019  150.866183  150.450992  150.152901  149.611679  148.946412   \n",
       "           2020  141.603835  141.457105  141.203120  141.206278  140.931617   \n",
       "TransnetBW 2019   39.293740   39.462290   39.165191   39.138321   39.369084   \n",
       "           2020   30.899023   30.604737   30.354023   29.871128   29.731955   \n",
       "\n",
       "                   01:15:00    01:30:00    01:45:00    02:00:00    02:15:00  \\\n",
       "Company    Date                                                               \n",
       "50Hertz    2019  141.381679  140.648855  140.923664  140.732824  140.458015   \n",
       "           2020  140.037594  139.462406  139.112782  138.646617  138.560150   \n",
       "Amprion    2019  108.282443  108.129771  107.465649  107.282443  106.671756   \n",
       "           2020   93.563910   93.146617   92.812030   92.571429   92.127820   \n",
       "TenneTTSO  2019  148.629847  148.808473  148.620382  148.236031  147.931298   \n",
       "           2020  140.642105  140.583008  140.537632  140.579962  140.784511   \n",
       "TransnetBW 2019   39.028779   38.834580   38.684504   38.211145   38.427099   \n",
       "           2020   29.642481   29.409511   29.432857   29.453045   29.410301   \n",
       "\n",
       "                 ...    21:30:00    21:45:00    22:00:00    22:15:00  \\\n",
       "Company    Date  ...                                                   \n",
       "50Hertz    2019  ...  144.328244  144.839695  144.709924  144.641221   \n",
       "           2020  ...  147.590226  147.214286  147.075188  146.661654   \n",
       "Amprion    2019  ...  115.412214  114.572519  114.076336  112.961832   \n",
       "           2020  ...   96.515038   96.338346   96.368421   96.379699   \n",
       "TenneTTSO  2019  ...  152.761908  152.608015  152.675802  152.765115   \n",
       "           2020  ...  145.523571  144.793947  144.206466  143.894850   \n",
       "TransnetBW 2019  ...   38.739847   38.871527   38.754275   38.998473   \n",
       "           2020  ...   31.489662   31.425075   31.569248   31.510526   \n",
       "\n",
       "                   22:30:00    22:45:00    23:00:00    23:15:00    23:30:00  \\\n",
       "Company    Date                                                               \n",
       "50Hertz    2019  144.442748  144.274809  144.954198  144.206107  144.076336   \n",
       "           2020  145.609023  144.624060  143.864662  143.680451  143.112782   \n",
       "Amprion    2019  112.595420  112.427481  111.343511  110.946565  110.328244   \n",
       "           2020   96.176692   94.898496   95.018797   94.973684   94.691729   \n",
       "TenneTTSO  2019  152.631374  152.897176  152.363740  152.357405  152.236565   \n",
       "           2020  143.764248  143.694135  143.535902  142.563008  142.350075   \n",
       "TransnetBW 2019   39.014733   39.522290   39.187099   39.421832   39.499924   \n",
       "           2020   31.356391   31.330113   31.271917   30.962932   30.978346   \n",
       "\n",
       "                   23:45:00  \n",
       "Company    Date              \n",
       "50Hertz    2019  144.259542  \n",
       "           2020  142.338346  \n",
       "Amprion    2019  107.473282  \n",
       "           2020   94.383459  \n",
       "TenneTTSO  2019  151.705496  \n",
       "           2020  141.976128  \n",
       "TransnetBW 2019   39.299924  \n",
       "           2020   30.907481  \n",
       "\n",
       "[8 rows x 96 columns]"
      ]
     },
     "execution_count": 5,
     "metadata": {},
     "output_type": "execute_result"
    }
   ],
   "source": [
    "df_company_year = df.groupby(['Company', df.Date.dt.year]).mean()\n",
    "df_company_year"
   ]
  },
  {
   "cell_type": "markdown",
   "metadata": {},
   "source": [
    "Extract a dataframe for each time point (00:00:00 and 12:00:00) and put them in\n",
    "their own objects named `midnight` and `noon`."
   ]
  },
  {
   "cell_type": "code",
   "execution_count": 6,
   "metadata": {},
   "outputs": [],
   "source": [
    "midnight = df_company_year.iloc[:,0]\n",
    "noon = df_company_year.iloc[:,48]"
   ]
  },
  {
   "cell_type": "code",
   "execution_count": 7,
   "metadata": {},
   "outputs": [
    {
     "data": {
      "text/plain": [
       "Company     Date\n",
       "50Hertz     2019    143.320611\n",
       "            2020    141.894737\n",
       "Amprion     2019    106.992366\n",
       "            2020     93.751880\n",
       "TenneTTSO   2019    150.866183\n",
       "            2020    141.603835\n",
       "TransnetBW  2019     39.293740\n",
       "            2020     30.899023\n",
       "Name: 00:00:00, dtype: float64"
      ]
     },
     "execution_count": 7,
     "metadata": {},
     "output_type": "execute_result"
    }
   ],
   "source": [
    "midnight"
   ]
  },
  {
   "cell_type": "code",
   "execution_count": 8,
   "metadata": {},
   "outputs": [
    {
     "data": {
      "text/plain": [
       "Company     Date\n",
       "50Hertz     2019    142.473282\n",
       "            2020    163.398496\n",
       "Amprion     2019    100.572519\n",
       "            2020    101.357143\n",
       "TenneTTSO   2019    149.229466\n",
       "            2020    162.944436\n",
       "TransnetBW  2019     37.772366\n",
       "            2020     25.731053\n",
       "Name: 12:00:00, dtype: float64"
      ]
     },
     "execution_count": 8,
     "metadata": {},
     "output_type": "execute_result"
    }
   ],
   "source": [
    "noon"
   ]
  },
  {
   "cell_type": "code",
   "execution_count": 9,
   "metadata": {},
   "outputs": [],
   "source": [
    "midnight = midnight.sort_values()\n",
    "noon = noon.sort_values()\n",
    "# https://stackoverflow.com/questions/39111347/how-do-i-convert-a-multiindex-to-type-string\n",
    "midnight_y = midnight.index.get_level_values(0).astype(str).values + ' ' + midnight.index.get_level_values(1).astype(str).values\n",
    "noon_y = noon.index.get_level_values(0).astype(str).values + ' ' + noon.index.get_level_values(1).astype(str).values"
   ]
  },
  {
   "cell_type": "markdown",
   "metadata": {},
   "source": [
    "Create a horizontal bar chart for each dataset.  \n",
    "Save each chart separately."
   ]
  },
  {
   "cell_type": "code",
   "execution_count": 10,
   "metadata": {},
   "outputs": [
    {
     "data": {
      "text/plain": [
       "Text(0.5, 1.0, 'TW/hours by Company/Year @ Midnight')"
      ]
     },
     "execution_count": 10,
     "metadata": {},
     "output_type": "execute_result"
    },
    {
     "data": {
      "image/png": "[encoded data removed]",
      "text/plain": [
       "<Figure size 432x288 with 1 Axes>"
      ]
     },
     "metadata": {
      "needs_background": "light"
     },
     "output_type": "display_data"
    }
   ],
   "source": [
    "fig = plt.figure()\n",
    "plt.barh(midnight_y, midnight)\n",
    "plt.title('TW/hours by Company/Year @ Midnight')"
   ]
  },
  {
   "cell_type": "code",
   "execution_count": 11,
   "metadata": {},
   "outputs": [],
   "source": [
    "fig.savefig('midnight.png')"
   ]
  },
  {
   "cell_type": "code",
   "execution_count": 12,
   "metadata": {},
   "outputs": [
    {
     "data": {
      "text/plain": [
       "Text(0.5, 1.0, 'TW/hours by Company/Year @ Noon')"
      ]
     },
     "execution_count": 12,
     "metadata": {},
     "output_type": "execute_result"
    },
    {
     "data": {
      "image/png": "[encoded data removed]",
      "text/plain": [
       "<Figure size 432x288 with 1 Axes>"
      ]
     },
     "metadata": {
      "needs_background": "light"
     },
     "output_type": "display_data"
    }
   ],
   "source": [
    "fig = plt.figure()\n",
    "plt.barh(noon_y, noon, color='red')\n",
    "plt.title('TW/hours by Company/Year @ Noon')"
   ]
  },
  {
   "cell_type": "code",
   "execution_count": 13,
   "metadata": {},
   "outputs": [],
   "source": [
    "fig.savefig('noon.png')"
   ]
  },
  {
   "cell_type": "markdown",
   "metadata": {},
   "source": [
    "Combine the two bar graphs into a single graph that shares the x-axis. And, it will\n",
    "be published in newspaper in grayscale, so the top graph should be silver and the bottom should be gray.  \n",
    "Save the file as ‘combined_bar_chart.png’"
   ]
  },
  {
   "cell_type": "code",
   "execution_count": 14,
   "metadata": {},
   "outputs": [
    {
     "data": {
      "image/png": "[encoded data removed]",
      "text/plain": [
       "<Figure size 864x576 with 2 Axes>"
      ]
     },
     "metadata": {
      "needs_background": "light"
     },
     "output_type": "display_data"
    }
   ],
   "source": [
    "fig = plt.figure(figsize=(12, 8))\n",
    "ax1 = fig.add_subplot(211)\n",
    "ax1.barh(midnight_y, midnight, color='silver')\n",
    "ax1.title.set_text('TW/hours by Company/Year @ Midnight')\n",
    "ax2 = fig.add_subplot(212, sharex = ax1)\n",
    "ax2.barh(noon_y, noon, color='gray')\n",
    "ax2.title.set_text('TW/hours by Company/Year @ Noon')"
   ]
  },
  {
   "cell_type": "code",
   "execution_count": 15,
   "metadata": {},
   "outputs": [],
   "source": [
    "fig.savefig('combined_bar_chart.png')"
   ]
  },
  {
   "cell_type": "markdown",
   "metadata": {},
   "source": [
    "Write a function that accepts the ungrouped dataframe, the company name, date,\n",
    "and a plotting color that generates an area graph for that particular company/day."
   ]
  },
  {
   "cell_type": "code",
   "execution_count": 16,
   "metadata": {},
   "outputs": [
    {
     "data": {
      "text/html": [
       "<div>\n",
       "<style scoped>\n",
       "    .dataframe tbody tr th:only-of-type {\n",
       "        vertical-align: middle;\n",
       "    }\n",
       "\n",
       "    .dataframe tbody tr th {\n",
       "        vertical-align: top;\n",
       "    }\n",
       "\n",
       "    .dataframe thead th {\n",
       "        text-align: right;\n",
       "    }\n",
       "</style>\n",
       "<table border=\"1\" class=\"dataframe\">\n",
       "  <thead>\n",
       "    <tr style=\"text-align: right;\">\n",
       "      <th></th>\n",
       "      <th>Company</th>\n",
       "      <th>Date</th>\n",
       "      <th>00:00:00</th>\n",
       "      <th>00:15:00</th>\n",
       "      <th>00:30:00</th>\n",
       "      <th>00:45:00</th>\n",
       "      <th>01:00:00</th>\n",
       "      <th>01:15:00</th>\n",
       "      <th>01:30:00</th>\n",
       "      <th>01:45:00</th>\n",
       "      <th>...</th>\n",
       "      <th>21:30:00</th>\n",
       "      <th>21:45:00</th>\n",
       "      <th>22:00:00</th>\n",
       "      <th>22:15:00</th>\n",
       "      <th>22:30:00</th>\n",
       "      <th>22:45:00</th>\n",
       "      <th>23:00:00</th>\n",
       "      <th>23:15:00</th>\n",
       "      <th>23:30:00</th>\n",
       "      <th>23:45:00</th>\n",
       "    </tr>\n",
       "  </thead>\n",
       "  <tbody>\n",
       "    <tr>\n",
       "      <th>0</th>\n",
       "      <td>50Hertz</td>\n",
       "      <td>2019-08-23</td>\n",
       "      <td>74</td>\n",
       "      <td>73</td>\n",
       "      <td>63</td>\n",
       "      <td>55</td>\n",
       "      <td>54</td>\n",
       "      <td>53</td>\n",
       "      <td>51</td>\n",
       "      <td>52</td>\n",
       "      <td>...</td>\n",
       "      <td>68</td>\n",
       "      <td>68</td>\n",
       "      <td>63</td>\n",
       "      <td>61</td>\n",
       "      <td>57</td>\n",
       "      <td>52</td>\n",
       "      <td>51</td>\n",
       "      <td>49</td>\n",
       "      <td>45</td>\n",
       "      <td>40</td>\n",
       "    </tr>\n",
       "    <tr>\n",
       "      <th>1</th>\n",
       "      <td>50Hertz</td>\n",
       "      <td>2019-08-24</td>\n",
       "      <td>37</td>\n",
       "      <td>38</td>\n",
       "      <td>35</td>\n",
       "      <td>35</td>\n",
       "      <td>31</td>\n",
       "      <td>32</td>\n",
       "      <td>30</td>\n",
       "      <td>29</td>\n",
       "      <td>...</td>\n",
       "      <td>118</td>\n",
       "      <td>118</td>\n",
       "      <td>112</td>\n",
       "      <td>107</td>\n",
       "      <td>104</td>\n",
       "      <td>104</td>\n",
       "      <td>99</td>\n",
       "      <td>95</td>\n",
       "      <td>95</td>\n",
       "      <td>96</td>\n",
       "    </tr>\n",
       "    <tr>\n",
       "      <th>2</th>\n",
       "      <td>50Hertz</td>\n",
       "      <td>2019-08-25</td>\n",
       "      <td>93</td>\n",
       "      <td>88</td>\n",
       "      <td>85</td>\n",
       "      <td>81</td>\n",
       "      <td>76</td>\n",
       "      <td>80</td>\n",
       "      <td>81</td>\n",
       "      <td>76</td>\n",
       "      <td>...</td>\n",
       "      <td>111</td>\n",
       "      <td>108</td>\n",
       "      <td>103</td>\n",
       "      <td>96</td>\n",
       "      <td>93</td>\n",
       "      <td>88</td>\n",
       "      <td>86</td>\n",
       "      <td>82</td>\n",
       "      <td>80</td>\n",
       "      <td>77</td>\n",
       "    </tr>\n",
       "    <tr>\n",
       "      <th>3</th>\n",
       "      <td>50Hertz</td>\n",
       "      <td>2019-08-26</td>\n",
       "      <td>72</td>\n",
       "      <td>66</td>\n",
       "      <td>59</td>\n",
       "      <td>54</td>\n",
       "      <td>48</td>\n",
       "      <td>46</td>\n",
       "      <td>45</td>\n",
       "      <td>43</td>\n",
       "      <td>...</td>\n",
       "      <td>48</td>\n",
       "      <td>47</td>\n",
       "      <td>47</td>\n",
       "      <td>46</td>\n",
       "      <td>47</td>\n",
       "      <td>49</td>\n",
       "      <td>50</td>\n",
       "      <td>51</td>\n",
       "      <td>48</td>\n",
       "      <td>42</td>\n",
       "    </tr>\n",
       "    <tr>\n",
       "      <th>4</th>\n",
       "      <td>50Hertz</td>\n",
       "      <td>2019-08-27</td>\n",
       "      <td>39</td>\n",
       "      <td>38</td>\n",
       "      <td>36</td>\n",
       "      <td>36</td>\n",
       "      <td>34</td>\n",
       "      <td>31</td>\n",
       "      <td>31</td>\n",
       "      <td>30</td>\n",
       "      <td>...</td>\n",
       "      <td>54</td>\n",
       "      <td>53</td>\n",
       "      <td>51</td>\n",
       "      <td>52</td>\n",
       "      <td>51</td>\n",
       "      <td>52</td>\n",
       "      <td>54</td>\n",
       "      <td>54</td>\n",
       "      <td>56</td>\n",
       "      <td>59</td>\n",
       "    </tr>\n",
       "  </tbody>\n",
       "</table>\n",
       "<p>5 rows × 98 columns</p>\n",
       "</div>"
      ],
      "text/plain": [
       "   Company       Date  00:00:00  00:15:00  00:30:00  00:45:00  01:00:00  \\\n",
       "0  50Hertz 2019-08-23        74        73        63        55        54   \n",
       "1  50Hertz 2019-08-24        37        38        35        35        31   \n",
       "2  50Hertz 2019-08-25        93        88        85        81        76   \n",
       "3  50Hertz 2019-08-26        72        66        59        54        48   \n",
       "4  50Hertz 2019-08-27        39        38        36        36        34   \n",
       "\n",
       "   01:15:00  01:30:00  01:45:00  ...  21:30:00  21:45:00  22:00:00  22:15:00  \\\n",
       "0        53        51        52  ...        68        68        63        61   \n",
       "1        32        30        29  ...       118       118       112       107   \n",
       "2        80        81        76  ...       111       108       103        96   \n",
       "3        46        45        43  ...        48        47        47        46   \n",
       "4        31        31        30  ...        54        53        51        52   \n",
       "\n",
       "   22:30:00  22:45:00  23:00:00  23:15:00  23:30:00  23:45:00  \n",
       "0        57        52        51        49        45        40  \n",
       "1       104       104        99        95        95        96  \n",
       "2        93        88        86        82        80        77  \n",
       "3        47        49        50        51        48        42  \n",
       "4        51        52        54        54        56        59  \n",
       "\n",
       "[5 rows x 98 columns]"
      ]
     },
     "execution_count": 16,
     "metadata": {},
     "output_type": "execute_result"
    }
   ],
   "source": [
    "df_50Hertz.head()"
   ]
  },
  {
   "cell_type": "code",
   "execution_count": 17,
   "metadata": {},
   "outputs": [],
   "source": [
    "def daily_view(dataframe, company, date, color):\n",
    "    y = dataframe.loc[dataframe['Date']==date]\n",
    "    x = dataframe.columns[2:]\n",
    "    y = y.iloc[:,2:]\n",
    "    y = y.iloc[0]\n",
    "    fig, ax = plt.subplots()\n",
    "    ax.fill_between(x, y, color=color)\n",
    "    plt.title('Power Production: '+company+'/'+date)\n",
    "    plt.xlabel('Time of Day')\n",
    "    plt.ylabel('TW/h Generated')\n",
    "    plt.xticks(x[::20], x[::20])"
   ]
  },
  {
   "cell_type": "code",
   "execution_count": 18,
   "metadata": {},
   "outputs": [
    {
     "data": {
      "image/png": "[encoded data removed]",
      "text/plain": [
       "<Figure size 432x288 with 1 Axes>"
      ]
     },
     "metadata": {
      "needs_background": "light"
     },
     "output_type": "display_data"
    }
   ],
   "source": [
    "daily_view(df_50Hertz, '50Hertz', '2019-08-24', 'purple')"
   ]
  },
  {
   "cell_type": "markdown",
   "metadata": {},
   "source": [
    "Generate a unified graph that contains four area charts, one for each company for the\n",
    "same day"
   ]
  },
  {
   "cell_type": "code",
   "execution_count": 19,
   "metadata": {},
   "outputs": [],
   "source": [
    "def daily_view_unifier(dataframe, company, date, color, axis):\n",
    "    y = dataframe.loc[dataframe['Date']==date]\n",
    "    x = dataframe.columns[2:]\n",
    "    y = y.iloc[:,2:]\n",
    "    y = y.iloc[0]\n",
    "    axis.fill_between(x, y, color=color)\n",
    "    plt.title('Power Production: '+company+'/'+date)\n",
    "    plt.xlabel('Time of Day')\n",
    "    plt.ylabel('TW/h Generated')\n",
    "    plt.xticks(x[::20], x[::20])"
   ]
  },
  {
   "cell_type": "code",
   "execution_count": 20,
   "metadata": {},
   "outputs": [],
   "source": [
    "def unified_daily_view(date):\n",
    "    fig = plt.figure(figsize=(12, 8))\n",
    "    ax1 = fig.add_subplot(221)\n",
    "    daily_view_unifier(df_50Hertz, '50Hertz', date, 'red', ax1)\n",
    "    ax2 = fig.add_subplot(222)\n",
    "    daily_view_unifier(df_Amprion, 'Amprion', date, 'green', ax2)\n",
    "    ax3 = fig.add_subplot(223)\n",
    "    daily_view_unifier(df_TenneTTSO, 'TenneTTSO', date, 'blue', ax3)\n",
    "    ax4 = fig.add_subplot(224)\n",
    "    daily_view_unifier(df_TransnetBW, 'TransnetBW', date, 'purple', ax4)"
   ]
  },
  {
   "cell_type": "code",
   "execution_count": 21,
   "metadata": {},
   "outputs": [
    {
     "data": {
      "image/png": "[encoded data removed]",
      "text/plain": [
       "<Figure size 864x576 with 4 Axes>"
      ]
     },
     "metadata": {
      "needs_background": "light"
     },
     "output_type": "display_data"
    }
   ],
   "source": [
    "unified_daily_view('2019-08-24')"
   ]
  },
  {
   "cell_type": "markdown",
   "metadata": {},
   "source": [
    "# Part 2"
   ]
  },
  {
   "cell_type": "markdown",
   "metadata": {},
   "source": [
    "Using one or more of the other data sets besides `fmri`, `flights`, `mpg` and `penguin`, generate examples of the following plots:"
   ]
  },
  {
   "cell_type": "markdown",
   "metadata": {},
   "source": [
    "## 1. Line Chart"
   ]
  },
  {
   "cell_type": "code",
   "execution_count": 22,
   "metadata": {},
   "outputs": [
    {
     "data": {
      "text/html": [
       "<div>\n",
       "<style scoped>\n",
       "    .dataframe tbody tr th:only-of-type {\n",
       "        vertical-align: middle;\n",
       "    }\n",
       "\n",
       "    .dataframe tbody tr th {\n",
       "        vertical-align: top;\n",
       "    }\n",
       "\n",
       "    .dataframe thead th {\n",
       "        text-align: right;\n",
       "    }\n",
       "</style>\n",
       "<table border=\"1\" class=\"dataframe\">\n",
       "  <thead>\n",
       "    <tr style=\"text-align: right;\">\n",
       "      <th></th>\n",
       "      <th>total_bill</th>\n",
       "      <th>tip</th>\n",
       "      <th>sex</th>\n",
       "      <th>smoker</th>\n",
       "      <th>day</th>\n",
       "      <th>time</th>\n",
       "      <th>size</th>\n",
       "    </tr>\n",
       "  </thead>\n",
       "  <tbody>\n",
       "    <tr>\n",
       "      <th>0</th>\n",
       "      <td>16.99</td>\n",
       "      <td>1.01</td>\n",
       "      <td>Female</td>\n",
       "      <td>No</td>\n",
       "      <td>Sun</td>\n",
       "      <td>Dinner</td>\n",
       "      <td>2</td>\n",
       "    </tr>\n",
       "    <tr>\n",
       "      <th>1</th>\n",
       "      <td>10.34</td>\n",
       "      <td>1.66</td>\n",
       "      <td>Male</td>\n",
       "      <td>No</td>\n",
       "      <td>Sun</td>\n",
       "      <td>Dinner</td>\n",
       "      <td>3</td>\n",
       "    </tr>\n",
       "    <tr>\n",
       "      <th>2</th>\n",
       "      <td>21.01</td>\n",
       "      <td>3.50</td>\n",
       "      <td>Male</td>\n",
       "      <td>No</td>\n",
       "      <td>Sun</td>\n",
       "      <td>Dinner</td>\n",
       "      <td>3</td>\n",
       "    </tr>\n",
       "    <tr>\n",
       "      <th>3</th>\n",
       "      <td>23.68</td>\n",
       "      <td>3.31</td>\n",
       "      <td>Male</td>\n",
       "      <td>No</td>\n",
       "      <td>Sun</td>\n",
       "      <td>Dinner</td>\n",
       "      <td>2</td>\n",
       "    </tr>\n",
       "    <tr>\n",
       "      <th>4</th>\n",
       "      <td>24.59</td>\n",
       "      <td>3.61</td>\n",
       "      <td>Female</td>\n",
       "      <td>No</td>\n",
       "      <td>Sun</td>\n",
       "      <td>Dinner</td>\n",
       "      <td>4</td>\n",
       "    </tr>\n",
       "  </tbody>\n",
       "</table>\n",
       "</div>"
      ],
      "text/plain": [
       "   total_bill   tip     sex smoker  day    time  size\n",
       "0       16.99  1.01  Female     No  Sun  Dinner     2\n",
       "1       10.34  1.66    Male     No  Sun  Dinner     3\n",
       "2       21.01  3.50    Male     No  Sun  Dinner     3\n",
       "3       23.68  3.31    Male     No  Sun  Dinner     2\n",
       "4       24.59  3.61  Female     No  Sun  Dinner     4"
      ]
     },
     "execution_count": 22,
     "metadata": {},
     "output_type": "execute_result"
    }
   ],
   "source": [
    "tips = sns.load_dataset('tips')\n",
    "tips.head(5)"
   ]
  },
  {
   "cell_type": "code",
   "execution_count": 23,
   "metadata": {},
   "outputs": [],
   "source": [
    "msf = tips.query(\"sex=='Male' and smoker=='Yes' and size>2\")\n",
    "msf.sort_values(by='day')\n",
    "msf.index = msf.day"
   ]
  },
  {
   "cell_type": "code",
   "execution_count": 24,
   "metadata": {},
   "outputs": [
    {
     "data": {
      "text/plain": [
       "day\n",
       "Thur    4.000\n",
       "Fri     4.730\n",
       "Sat     3.833\n",
       "Sun     3.936\n",
       "Name: tip, dtype: float64"
      ]
     },
     "execution_count": 24,
     "metadata": {},
     "output_type": "execute_result"
    }
   ],
   "source": [
    "msf = msf.groupby(msf.day).mean()\n",
    "msf.tip"
   ]
  },
  {
   "cell_type": "code",
   "execution_count": 25,
   "metadata": {},
   "outputs": [
    {
     "name": "stderr",
     "output_type": "stream",
     "text": [
      "C:\\Users\\Jrred\\anaconda3\\lib\\site-packages\\matplotlib\\axes\\_base.py:405: FutureWarning: Support for multi-dimensional indexing (e.g. `obj[:, None]`) is deprecated and will be removed in a future version.  Convert to a numpy array before indexing instead.\n",
      "  x = x[:, np.newaxis]\n"
     ]
    },
    {
     "data": {
      "text/plain": [
       "Text(0, 0.5, 'Tip Amount')"
      ]
     },
     "execution_count": 25,
     "metadata": {},
     "output_type": "execute_result"
    },
    {
     "data": {
      "image/png": "[encoded data removed]",
      "text/plain": [
       "<Figure size 864x432 with 1 Axes>"
      ]
     },
     "metadata": {
      "needs_background": "light"
     },
     "output_type": "display_data"
    }
   ],
   "source": [
    "fig = plt.figure(figsize=(12,6))\n",
    "plt.plot(msf.tip)\n",
    "plt.title('Tipping Avg per Day from Male Smokers with Families')\n",
    "plt.xlabel('Day')\n",
    "plt.ylabel('Tip Amount')"
   ]
  },
  {
   "cell_type": "markdown",
   "metadata": {},
   "source": [
    "## 2. Box/Whisker"
   ]
  },
  {
   "cell_type": "code",
   "execution_count": 26,
   "metadata": {},
   "outputs": [
    {
     "data": {
      "text/plain": [
       "{'whiskers': [<matplotlib.lines.Line2D at 0x19e6bcab5b0>,\n",
       "  <matplotlib.lines.Line2D at 0x19e6bcab910>],\n",
       " 'caps': [<matplotlib.lines.Line2D at 0x19e6bcabc70>,\n",
       "  <matplotlib.lines.Line2D at 0x19e6bcabfd0>],\n",
       " 'boxes': [<matplotlib.lines.Line2D at 0x19e6bcab250>],\n",
       " 'medians': [<matplotlib.lines.Line2D at 0x19e6baf7370>],\n",
       " 'fliers': [<matplotlib.lines.Line2D at 0x19e6baf76d0>],\n",
       " 'means': []}"
      ]
     },
     "execution_count": 26,
     "metadata": {},
     "output_type": "execute_result"
    },
    {
     "data": {
      "image/png": "[encoded data removed]",
      "text/plain": [
       "<Figure size 432x288 with 1 Axes>"
      ]
     },
     "metadata": {
      "needs_background": "light"
     },
     "output_type": "display_data"
    }
   ],
   "source": [
    "plt.boxplot(tips.total_bill)"
   ]
  },
  {
   "cell_type": "code",
   "execution_count": 27,
   "metadata": {},
   "outputs": [
    {
     "data": {
      "image/png": "[encoded data removed]",
      "text/plain": [
       "<Figure size 432x288 with 1 Axes>"
      ]
     },
     "metadata": {
      "needs_background": "light"
     },
     "output_type": "display_data"
    }
   ],
   "source": [
    "ax1 = tips.boxplot(column='total_bill', by='day') #creates ref to the plot axis object\n",
    "ax1.set_title('')\n",
    "ax1.set_ylabel('Total Bill')\n",
    "ax1.grid(False)"
   ]
  },
  {
   "cell_type": "markdown",
   "metadata": {},
   "source": [
    "## 3. Histograms and Kernel Density"
   ]
  },
  {
   "cell_type": "code",
   "execution_count": 28,
   "metadata": {},
   "outputs": [
    {
     "data": {
      "text/plain": [
       "<seaborn.axisgrid.FacetGrid at 0x19e6b5c23a0>"
      ]
     },
     "execution_count": 28,
     "metadata": {},
     "output_type": "execute_result"
    },
    {
     "data": {
      "image/png": "[encoded data removed]",
      "text/plain": [
       "<Figure size 360x360 with 1 Axes>"
      ]
     },
     "metadata": {
      "needs_background": "light"
     },
     "output_type": "display_data"
    }
   ],
   "source": [
    "sns.displot(tips.tip, kde=True)"
   ]
  },
  {
   "cell_type": "markdown",
   "metadata": {},
   "source": [
    "## 4. Heatmaps"
   ]
  },
  {
   "cell_type": "code",
   "execution_count": 29,
   "metadata": {},
   "outputs": [],
   "source": [
    "geyser = sns.load_dataset('geyser')"
   ]
  },
  {
   "cell_type": "code",
   "execution_count": 30,
   "metadata": {},
   "outputs": [
    {
     "data": {
      "text/html": [
       "<div>\n",
       "<style scoped>\n",
       "    .dataframe tbody tr th:only-of-type {\n",
       "        vertical-align: middle;\n",
       "    }\n",
       "\n",
       "    .dataframe tbody tr th {\n",
       "        vertical-align: top;\n",
       "    }\n",
       "\n",
       "    .dataframe thead th {\n",
       "        text-align: right;\n",
       "    }\n",
       "</style>\n",
       "<table border=\"1\" class=\"dataframe\">\n",
       "  <thead>\n",
       "    <tr style=\"text-align: right;\">\n",
       "      <th></th>\n",
       "      <th>duration</th>\n",
       "      <th>waiting</th>\n",
       "      <th>kind</th>\n",
       "    </tr>\n",
       "  </thead>\n",
       "  <tbody>\n",
       "    <tr>\n",
       "      <th>0</th>\n",
       "      <td>3.600</td>\n",
       "      <td>79</td>\n",
       "      <td>long</td>\n",
       "    </tr>\n",
       "    <tr>\n",
       "      <th>1</th>\n",
       "      <td>1.800</td>\n",
       "      <td>54</td>\n",
       "      <td>short</td>\n",
       "    </tr>\n",
       "    <tr>\n",
       "      <th>2</th>\n",
       "      <td>3.333</td>\n",
       "      <td>74</td>\n",
       "      <td>long</td>\n",
       "    </tr>\n",
       "    <tr>\n",
       "      <th>3</th>\n",
       "      <td>2.283</td>\n",
       "      <td>62</td>\n",
       "      <td>short</td>\n",
       "    </tr>\n",
       "    <tr>\n",
       "      <th>4</th>\n",
       "      <td>4.533</td>\n",
       "      <td>85</td>\n",
       "      <td>long</td>\n",
       "    </tr>\n",
       "    <tr>\n",
       "      <th>5</th>\n",
       "      <td>2.883</td>\n",
       "      <td>55</td>\n",
       "      <td>short</td>\n",
       "    </tr>\n",
       "    <tr>\n",
       "      <th>6</th>\n",
       "      <td>4.700</td>\n",
       "      <td>88</td>\n",
       "      <td>long</td>\n",
       "    </tr>\n",
       "    <tr>\n",
       "      <th>7</th>\n",
       "      <td>3.600</td>\n",
       "      <td>85</td>\n",
       "      <td>long</td>\n",
       "    </tr>\n",
       "    <tr>\n",
       "      <th>8</th>\n",
       "      <td>1.950</td>\n",
       "      <td>51</td>\n",
       "      <td>short</td>\n",
       "    </tr>\n",
       "    <tr>\n",
       "      <th>9</th>\n",
       "      <td>4.350</td>\n",
       "      <td>85</td>\n",
       "      <td>long</td>\n",
       "    </tr>\n",
       "  </tbody>\n",
       "</table>\n",
       "</div>"
      ],
      "text/plain": [
       "   duration  waiting   kind\n",
       "0     3.600       79   long\n",
       "1     1.800       54  short\n",
       "2     3.333       74   long\n",
       "3     2.283       62  short\n",
       "4     4.533       85   long\n",
       "5     2.883       55  short\n",
       "6     4.700       88   long\n",
       "7     3.600       85   long\n",
       "8     1.950       51  short\n",
       "9     4.350       85   long"
      ]
     },
     "execution_count": 30,
     "metadata": {},
     "output_type": "execute_result"
    }
   ],
   "source": [
    "geyser.head(10)"
   ]
  },
  {
   "cell_type": "code",
   "execution_count": 31,
   "metadata": {},
   "outputs": [],
   "source": [
    "#geyser = geyser.pivot(geyser.index, \"waiting\", \"duration\")\n",
    "#ye i dunno what works besides flights"
   ]
  },
  {
   "cell_type": "markdown",
   "metadata": {},
   "source": [
    "## 5. Seaborn Pair Plot"
   ]
  },
  {
   "cell_type": "code",
   "execution_count": 32,
   "metadata": {},
   "outputs": [
    {
     "data": {
      "text/plain": [
       "<seaborn.axisgrid.PairGrid at 0x19e6b5d58e0>"
      ]
     },
     "execution_count": 32,
     "metadata": {},
     "output_type": "execute_result"
    },
    {
     "data": {
      "image/png": "[encoded data removed]",
      "text/plain": [
       "<Figure size 540x540 with 12 Axes>"
      ]
     },
     "metadata": {
      "needs_background": "light"
     },
     "output_type": "display_data"
    }
   ],
   "source": [
    "sns.pairplot(tips)"
   ]
  }
 ],
 "metadata": {
  "kernelspec": {
   "display_name": "Python 3",
   "language": "python",
   "name": "python3"
  },
  "language_info": {
   "codemirror_mode": {
    "name": "ipython",
    "version": 3
   },
   "file_extension": ".py",
   "mimetype": "text/x-python",
   "name": "python",
   "nbconvert_exporter": "python",
   "pygments_lexer": "ipython3",
   "version": "3.8.5"
  }
 },
 "nbformat": 4,
 "nbformat_minor": 4
}

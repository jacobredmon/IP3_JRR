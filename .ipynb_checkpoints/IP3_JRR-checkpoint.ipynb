{
 "cells": [
  {
   "cell_type": "markdown",
   "metadata": {},
   "source": [
    "# Individual Project 3 \n",
    "---  \n",
    "**Author:** Jacob Redmon  \n",
    "**Version:** 1.0  \n",
    "**Semester:** Spring 2021  \n",
    "**Summary:**  \n",
    "\n",
    "The goal of this project is to use some of the features/functions provided by the Python Pandas library to clean up a data set and then visualize it with Pandas/Matplotlib/Seaborn."
   ]
  },
  {
   "cell_type": "markdown",
   "metadata": {},
   "source": [
    "## 0. Imports"
   ]
  },
  {
   "cell_type": "code",
   "execution_count": 1,
   "metadata": {},
   "outputs": [],
   "source": [
    "import pandas as pd\n",
    "import numpy as np\n",
    "import matplotlib.pyplot as plt\n",
    "import seaborn as sns\n",
    "%matplotlib inline"
   ]
  },
  {
   "cell_type": "markdown",
   "metadata": {},
   "source": [
    "## 1. Merging the Datasets"
   ]
  },
  {
   "cell_type": "markdown",
   "metadata": {},
   "source": [
    "Write a function that takes a filename and returns a dataframe.  \n",
    "Convert the Date column to a date.  \n",
    "Add a column called `Company` that contains the Company name."
   ]
  },
  {
   "cell_type": "code",
   "execution_count": 14,
   "metadata": {},
   "outputs": [],
   "source": [
    "def import_into_dataframe(filename):\n",
    "    globals()['df_'+filename] = pd.read_csv(filename + '.csv')\n",
    "    globals()['df_'+filename]['Date'] = pd.to_datetime(globals()['df_'+filename]['Date'], dayfirst=True)\n",
    "    globals()['df_'+filename].insert(0, 'Company', filename)\n",
    "    return globals()['df_'+filename]"
   ]
  },
  {
   "cell_type": "markdown",
   "metadata": {},
   "source": [
    "Execute your function four times, passing each file to it. Once complete, you will have four dataframes that you can merge."
   ]
  },
  {
   "cell_type": "code",
   "execution_count": 22,
   "metadata": {},
   "outputs": [],
   "source": [
    "d = ['50Hertz', 'Amprion', 'TenneTTSO', 'TransnetBW']\n",
    "for i in d:\n",
    "    import_into_dataframe(i)"
   ]
  },
  {
   "cell_type": "markdown",
   "metadata": {},
   "source": [
    "Stack the dataframes on top of each to produce one large dataframe that has 98 columns, one for company, one for date and one for each timepoint"
   ]
  },
  {
   "cell_type": "code",
   "execution_count": 37,
   "metadata": {},
   "outputs": [],
   "source": [
    "df = pd.concat([df_50Hertz, df_Amprion, df_TenneTTSO, df_TransnetBW])"
   ]
  },
  {
   "cell_type": "markdown",
   "metadata": {},
   "source": [
    "## 2. Visualizing Data"
   ]
  },
  {
   "cell_type": "markdown",
   "metadata": {},
   "source": [
    "Create a new dataframe that is grouped by `Company` and the year (e.g. `50Hertz 2019`, `50Hertz 2020`, etc.)."
   ]
  },
  {
   "cell_type": "code",
   "execution_count": 46,
   "metadata": {},
   "outputs": [
    {
     "data": {
      "text/html": [
       "<div>\n",
       "<style scoped>\n",
       "    .dataframe tbody tr th:only-of-type {\n",
       "        vertical-align: middle;\n",
       "    }\n",
       "\n",
       "    .dataframe tbody tr th {\n",
       "        vertical-align: top;\n",
       "    }\n",
       "\n",
       "    .dataframe thead th {\n",
       "        text-align: right;\n",
       "    }\n",
       "</style>\n",
       "<table border=\"1\" class=\"dataframe\">\n",
       "  <thead>\n",
       "    <tr style=\"text-align: right;\">\n",
       "      <th></th>\n",
       "      <th></th>\n",
       "      <th>00:00:00</th>\n",
       "      <th>00:15:00</th>\n",
       "      <th>00:30:00</th>\n",
       "      <th>00:45:00</th>\n",
       "      <th>01:00:00</th>\n",
       "      <th>01:15:00</th>\n",
       "      <th>01:30:00</th>\n",
       "      <th>01:45:00</th>\n",
       "      <th>02:00:00</th>\n",
       "      <th>02:15:00</th>\n",
       "      <th>...</th>\n",
       "      <th>21:30:00</th>\n",
       "      <th>21:45:00</th>\n",
       "      <th>22:00:00</th>\n",
       "      <th>22:15:00</th>\n",
       "      <th>22:30:00</th>\n",
       "      <th>22:45:00</th>\n",
       "      <th>23:00:00</th>\n",
       "      <th>23:15:00</th>\n",
       "      <th>23:30:00</th>\n",
       "      <th>23:45:00</th>\n",
       "    </tr>\n",
       "    <tr>\n",
       "      <th>Company</th>\n",
       "      <th>Date</th>\n",
       "      <th></th>\n",
       "      <th></th>\n",
       "      <th></th>\n",
       "      <th></th>\n",
       "      <th></th>\n",
       "      <th></th>\n",
       "      <th></th>\n",
       "      <th></th>\n",
       "      <th></th>\n",
       "      <th></th>\n",
       "      <th></th>\n",
       "      <th></th>\n",
       "      <th></th>\n",
       "      <th></th>\n",
       "      <th></th>\n",
       "      <th></th>\n",
       "      <th></th>\n",
       "      <th></th>\n",
       "      <th></th>\n",
       "      <th></th>\n",
       "      <th></th>\n",
       "    </tr>\n",
       "  </thead>\n",
       "  <tbody>\n",
       "    <tr>\n",
       "      <th rowspan=\"2\" valign=\"top\">50Hertz</th>\n",
       "      <th>2019</th>\n",
       "      <td>143.320611</td>\n",
       "      <td>142.351145</td>\n",
       "      <td>142.366412</td>\n",
       "      <td>142.000000</td>\n",
       "      <td>141.900763</td>\n",
       "      <td>141.381679</td>\n",
       "      <td>140.648855</td>\n",
       "      <td>140.923664</td>\n",
       "      <td>140.732824</td>\n",
       "      <td>140.458015</td>\n",
       "      <td>...</td>\n",
       "      <td>144.328244</td>\n",
       "      <td>144.839695</td>\n",
       "      <td>144.709924</td>\n",
       "      <td>144.641221</td>\n",
       "      <td>144.442748</td>\n",
       "      <td>144.274809</td>\n",
       "      <td>144.954198</td>\n",
       "      <td>144.206107</td>\n",
       "      <td>144.076336</td>\n",
       "      <td>144.259542</td>\n",
       "    </tr>\n",
       "    <tr>\n",
       "      <th>2020</th>\n",
       "      <td>141.894737</td>\n",
       "      <td>141.124060</td>\n",
       "      <td>140.936090</td>\n",
       "      <td>140.838346</td>\n",
       "      <td>140.281955</td>\n",
       "      <td>140.037594</td>\n",
       "      <td>139.462406</td>\n",
       "      <td>139.112782</td>\n",
       "      <td>138.646617</td>\n",
       "      <td>138.560150</td>\n",
       "      <td>...</td>\n",
       "      <td>147.590226</td>\n",
       "      <td>147.214286</td>\n",
       "      <td>147.075188</td>\n",
       "      <td>146.661654</td>\n",
       "      <td>145.609023</td>\n",
       "      <td>144.624060</td>\n",
       "      <td>143.864662</td>\n",
       "      <td>143.680451</td>\n",
       "      <td>143.112782</td>\n",
       "      <td>142.338346</td>\n",
       "    </tr>\n",
       "    <tr>\n",
       "      <th rowspan=\"2\" valign=\"top\">Amprion</th>\n",
       "      <th>2019</th>\n",
       "      <td>106.992366</td>\n",
       "      <td>106.679389</td>\n",
       "      <td>106.091603</td>\n",
       "      <td>105.549618</td>\n",
       "      <td>108.083969</td>\n",
       "      <td>108.282443</td>\n",
       "      <td>108.129771</td>\n",
       "      <td>107.465649</td>\n",
       "      <td>107.282443</td>\n",
       "      <td>106.671756</td>\n",
       "      <td>...</td>\n",
       "      <td>115.412214</td>\n",
       "      <td>114.572519</td>\n",
       "      <td>114.076336</td>\n",
       "      <td>112.961832</td>\n",
       "      <td>112.595420</td>\n",
       "      <td>112.427481</td>\n",
       "      <td>111.343511</td>\n",
       "      <td>110.946565</td>\n",
       "      <td>110.328244</td>\n",
       "      <td>107.473282</td>\n",
       "    </tr>\n",
       "    <tr>\n",
       "      <th>2020</th>\n",
       "      <td>93.751880</td>\n",
       "      <td>94.312030</td>\n",
       "      <td>94.424812</td>\n",
       "      <td>94.033835</td>\n",
       "      <td>93.657895</td>\n",
       "      <td>93.563910</td>\n",
       "      <td>93.146617</td>\n",
       "      <td>92.812030</td>\n",
       "      <td>92.571429</td>\n",
       "      <td>92.127820</td>\n",
       "      <td>...</td>\n",
       "      <td>96.515038</td>\n",
       "      <td>96.338346</td>\n",
       "      <td>96.368421</td>\n",
       "      <td>96.379699</td>\n",
       "      <td>96.176692</td>\n",
       "      <td>94.898496</td>\n",
       "      <td>95.018797</td>\n",
       "      <td>94.973684</td>\n",
       "      <td>94.691729</td>\n",
       "      <td>94.383459</td>\n",
       "    </tr>\n",
       "    <tr>\n",
       "      <th rowspan=\"2\" valign=\"top\">TenneTTSO</th>\n",
       "      <th>2019</th>\n",
       "      <td>150.866183</td>\n",
       "      <td>150.450992</td>\n",
       "      <td>150.152901</td>\n",
       "      <td>149.611679</td>\n",
       "      <td>148.946412</td>\n",
       "      <td>148.629847</td>\n",
       "      <td>148.808473</td>\n",
       "      <td>148.620382</td>\n",
       "      <td>148.236031</td>\n",
       "      <td>147.931298</td>\n",
       "      <td>...</td>\n",
       "      <td>152.761908</td>\n",
       "      <td>152.608015</td>\n",
       "      <td>152.675802</td>\n",
       "      <td>152.765115</td>\n",
       "      <td>152.631374</td>\n",
       "      <td>152.897176</td>\n",
       "      <td>152.363740</td>\n",
       "      <td>152.357405</td>\n",
       "      <td>152.236565</td>\n",
       "      <td>151.705496</td>\n",
       "    </tr>\n",
       "    <tr>\n",
       "      <th>2020</th>\n",
       "      <td>141.603835</td>\n",
       "      <td>141.457105</td>\n",
       "      <td>141.203120</td>\n",
       "      <td>141.206278</td>\n",
       "      <td>140.931617</td>\n",
       "      <td>140.642105</td>\n",
       "      <td>140.583008</td>\n",
       "      <td>140.537632</td>\n",
       "      <td>140.579962</td>\n",
       "      <td>140.784511</td>\n",
       "      <td>...</td>\n",
       "      <td>145.523571</td>\n",
       "      <td>144.793947</td>\n",
       "      <td>144.206466</td>\n",
       "      <td>143.894850</td>\n",
       "      <td>143.764248</td>\n",
       "      <td>143.694135</td>\n",
       "      <td>143.535902</td>\n",
       "      <td>142.563008</td>\n",
       "      <td>142.350075</td>\n",
       "      <td>141.976128</td>\n",
       "    </tr>\n",
       "    <tr>\n",
       "      <th rowspan=\"2\" valign=\"top\">TransnetBW</th>\n",
       "      <th>2019</th>\n",
       "      <td>39.293740</td>\n",
       "      <td>39.462290</td>\n",
       "      <td>39.165191</td>\n",
       "      <td>39.138321</td>\n",
       "      <td>39.369084</td>\n",
       "      <td>39.028779</td>\n",
       "      <td>38.834580</td>\n",
       "      <td>38.684504</td>\n",
       "      <td>38.211145</td>\n",
       "      <td>38.427099</td>\n",
       "      <td>...</td>\n",
       "      <td>38.739847</td>\n",
       "      <td>38.871527</td>\n",
       "      <td>38.754275</td>\n",
       "      <td>38.998473</td>\n",
       "      <td>39.014733</td>\n",
       "      <td>39.522290</td>\n",
       "      <td>39.187099</td>\n",
       "      <td>39.421832</td>\n",
       "      <td>39.499924</td>\n",
       "      <td>39.299924</td>\n",
       "    </tr>\n",
       "    <tr>\n",
       "      <th>2020</th>\n",
       "      <td>30.899023</td>\n",
       "      <td>30.604737</td>\n",
       "      <td>30.354023</td>\n",
       "      <td>29.871128</td>\n",
       "      <td>29.731955</td>\n",
       "      <td>29.642481</td>\n",
       "      <td>29.409511</td>\n",
       "      <td>29.432857</td>\n",
       "      <td>29.453045</td>\n",
       "      <td>29.410301</td>\n",
       "      <td>...</td>\n",
       "      <td>31.489662</td>\n",
       "      <td>31.425075</td>\n",
       "      <td>31.569248</td>\n",
       "      <td>31.510526</td>\n",
       "      <td>31.356391</td>\n",
       "      <td>31.330113</td>\n",
       "      <td>31.271917</td>\n",
       "      <td>30.962932</td>\n",
       "      <td>30.978346</td>\n",
       "      <td>30.907481</td>\n",
       "    </tr>\n",
       "  </tbody>\n",
       "</table>\n",
       "<p>8 rows × 96 columns</p>\n",
       "</div>"
      ],
      "text/plain": [
       "                   00:00:00    00:15:00    00:30:00    00:45:00    01:00:00  \\\n",
       "Company    Date                                                               \n",
       "50Hertz    2019  143.320611  142.351145  142.366412  142.000000  141.900763   \n",
       "           2020  141.894737  141.124060  140.936090  140.838346  140.281955   \n",
       "Amprion    2019  106.992366  106.679389  106.091603  105.549618  108.083969   \n",
       "           2020   93.751880   94.312030   94.424812   94.033835   93.657895   \n",
       "TenneTTSO  2019  150.866183  150.450992  150.152901  149.611679  148.946412   \n",
       "           2020  141.603835  141.457105  141.203120  141.206278  140.931617   \n",
       "TransnetBW 2019   39.293740   39.462290   39.165191   39.138321   39.369084   \n",
       "           2020   30.899023   30.604737   30.354023   29.871128   29.731955   \n",
       "\n",
       "                   01:15:00    01:30:00    01:45:00    02:00:00    02:15:00  \\\n",
       "Company    Date                                                               \n",
       "50Hertz    2019  141.381679  140.648855  140.923664  140.732824  140.458015   \n",
       "           2020  140.037594  139.462406  139.112782  138.646617  138.560150   \n",
       "Amprion    2019  108.282443  108.129771  107.465649  107.282443  106.671756   \n",
       "           2020   93.563910   93.146617   92.812030   92.571429   92.127820   \n",
       "TenneTTSO  2019  148.629847  148.808473  148.620382  148.236031  147.931298   \n",
       "           2020  140.642105  140.583008  140.537632  140.579962  140.784511   \n",
       "TransnetBW 2019   39.028779   38.834580   38.684504   38.211145   38.427099   \n",
       "           2020   29.642481   29.409511   29.432857   29.453045   29.410301   \n",
       "\n",
       "                 ...    21:30:00    21:45:00    22:00:00    22:15:00  \\\n",
       "Company    Date  ...                                                   \n",
       "50Hertz    2019  ...  144.328244  144.839695  144.709924  144.641221   \n",
       "           2020  ...  147.590226  147.214286  147.075188  146.661654   \n",
       "Amprion    2019  ...  115.412214  114.572519  114.076336  112.961832   \n",
       "           2020  ...   96.515038   96.338346   96.368421   96.379699   \n",
       "TenneTTSO  2019  ...  152.761908  152.608015  152.675802  152.765115   \n",
       "           2020  ...  145.523571  144.793947  144.206466  143.894850   \n",
       "TransnetBW 2019  ...   38.739847   38.871527   38.754275   38.998473   \n",
       "           2020  ...   31.489662   31.425075   31.569248   31.510526   \n",
       "\n",
       "                   22:30:00    22:45:00    23:00:00    23:15:00    23:30:00  \\\n",
       "Company    Date                                                               \n",
       "50Hertz    2019  144.442748  144.274809  144.954198  144.206107  144.076336   \n",
       "           2020  145.609023  144.624060  143.864662  143.680451  143.112782   \n",
       "Amprion    2019  112.595420  112.427481  111.343511  110.946565  110.328244   \n",
       "           2020   96.176692   94.898496   95.018797   94.973684   94.691729   \n",
       "TenneTTSO  2019  152.631374  152.897176  152.363740  152.357405  152.236565   \n",
       "           2020  143.764248  143.694135  143.535902  142.563008  142.350075   \n",
       "TransnetBW 2019   39.014733   39.522290   39.187099   39.421832   39.499924   \n",
       "           2020   31.356391   31.330113   31.271917   30.962932   30.978346   \n",
       "\n",
       "                   23:45:00  \n",
       "Company    Date              \n",
       "50Hertz    2019  144.259542  \n",
       "           2020  142.338346  \n",
       "Amprion    2019  107.473282  \n",
       "           2020   94.383459  \n",
       "TenneTTSO  2019  151.705496  \n",
       "           2020  141.976128  \n",
       "TransnetBW 2019   39.299924  \n",
       "           2020   30.907481  \n",
       "\n",
       "[8 rows x 96 columns]"
      ]
     },
     "execution_count": 46,
     "metadata": {},
     "output_type": "execute_result"
    }
   ],
   "source": [
    "df_company_year = df.groupby(['Company', df.Date.dt.year]).mean()\n",
    "df_company_year"
   ]
  },
  {
   "cell_type": "markdown",
   "metadata": {},
   "source": [
    "Extract a dataframe for each time point (00:00:00 and 12:00:00) and put them in\n",
    "their own objects named `midnight` and `noon`."
   ]
  },
  {
   "cell_type": "code",
   "execution_count": 69,
   "metadata": {},
   "outputs": [
    {
     "data": {
      "text/html": [
       "<div>\n",
       "<style scoped>\n",
       "    .dataframe tbody tr th:only-of-type {\n",
       "        vertical-align: middle;\n",
       "    }\n",
       "\n",
       "    .dataframe tbody tr th {\n",
       "        vertical-align: top;\n",
       "    }\n",
       "\n",
       "    .dataframe thead th {\n",
       "        text-align: right;\n",
       "    }\n",
       "</style>\n",
       "<table border=\"1\" class=\"dataframe\">\n",
       "  <thead>\n",
       "    <tr style=\"text-align: right;\">\n",
       "      <th></th>\n",
       "      <th></th>\n",
       "      <th>00:00:00</th>\n",
       "    </tr>\n",
       "    <tr>\n",
       "      <th>Company</th>\n",
       "      <th>Date</th>\n",
       "      <th></th>\n",
       "    </tr>\n",
       "  </thead>\n",
       "  <tbody>\n",
       "    <tr>\n",
       "      <th rowspan=\"2\" valign=\"top\">50Hertz</th>\n",
       "      <th>2019</th>\n",
       "      <td>143.320611</td>\n",
       "    </tr>\n",
       "    <tr>\n",
       "      <th>2020</th>\n",
       "      <td>141.894737</td>\n",
       "    </tr>\n",
       "    <tr>\n",
       "      <th rowspan=\"2\" valign=\"top\">Amprion</th>\n",
       "      <th>2019</th>\n",
       "      <td>106.992366</td>\n",
       "    </tr>\n",
       "    <tr>\n",
       "      <th>2020</th>\n",
       "      <td>93.751880</td>\n",
       "    </tr>\n",
       "    <tr>\n",
       "      <th rowspan=\"2\" valign=\"top\">TenneTTSO</th>\n",
       "      <th>2019</th>\n",
       "      <td>150.866183</td>\n",
       "    </tr>\n",
       "    <tr>\n",
       "      <th>2020</th>\n",
       "      <td>141.603835</td>\n",
       "    </tr>\n",
       "    <tr>\n",
       "      <th rowspan=\"2\" valign=\"top\">TransnetBW</th>\n",
       "      <th>2019</th>\n",
       "      <td>39.293740</td>\n",
       "    </tr>\n",
       "    <tr>\n",
       "      <th>2020</th>\n",
       "      <td>30.899023</td>\n",
       "    </tr>\n",
       "  </tbody>\n",
       "</table>\n",
       "</div>"
      ],
      "text/plain": [
       "                   00:00:00\n",
       "Company    Date            \n",
       "50Hertz    2019  143.320611\n",
       "           2020  141.894737\n",
       "Amprion    2019  106.992366\n",
       "           2020   93.751880\n",
       "TenneTTSO  2019  150.866183\n",
       "           2020  141.603835\n",
       "TransnetBW 2019   39.293740\n",
       "           2020   30.899023"
      ]
     },
     "execution_count": 69,
     "metadata": {},
     "output_type": "execute_result"
    }
   ],
   "source": [
    "midnight = df_company_year[['00:00:00']]\n",
    "noon = df_company_year[['12:00:00']]\n",
    "midnight"
   ]
  },
  {
   "cell_type": "code",
   "execution_count": 70,
   "metadata": {},
   "outputs": [
    {
     "data": {
      "text/html": [
       "<div>\n",
       "<style scoped>\n",
       "    .dataframe tbody tr th:only-of-type {\n",
       "        vertical-align: middle;\n",
       "    }\n",
       "\n",
       "    .dataframe tbody tr th {\n",
       "        vertical-align: top;\n",
       "    }\n",
       "\n",
       "    .dataframe thead th {\n",
       "        text-align: right;\n",
       "    }\n",
       "</style>\n",
       "<table border=\"1\" class=\"dataframe\">\n",
       "  <thead>\n",
       "    <tr style=\"text-align: right;\">\n",
       "      <th></th>\n",
       "      <th></th>\n",
       "      <th>12:00:00</th>\n",
       "    </tr>\n",
       "    <tr>\n",
       "      <th>Company</th>\n",
       "      <th>Date</th>\n",
       "      <th></th>\n",
       "    </tr>\n",
       "  </thead>\n",
       "  <tbody>\n",
       "    <tr>\n",
       "      <th rowspan=\"2\" valign=\"top\">50Hertz</th>\n",
       "      <th>2019</th>\n",
       "      <td>142.473282</td>\n",
       "    </tr>\n",
       "    <tr>\n",
       "      <th>2020</th>\n",
       "      <td>163.398496</td>\n",
       "    </tr>\n",
       "    <tr>\n",
       "      <th rowspan=\"2\" valign=\"top\">Amprion</th>\n",
       "      <th>2019</th>\n",
       "      <td>100.572519</td>\n",
       "    </tr>\n",
       "    <tr>\n",
       "      <th>2020</th>\n",
       "      <td>101.357143</td>\n",
       "    </tr>\n",
       "    <tr>\n",
       "      <th rowspan=\"2\" valign=\"top\">TenneTTSO</th>\n",
       "      <th>2019</th>\n",
       "      <td>149.229466</td>\n",
       "    </tr>\n",
       "    <tr>\n",
       "      <th>2020</th>\n",
       "      <td>162.944436</td>\n",
       "    </tr>\n",
       "    <tr>\n",
       "      <th rowspan=\"2\" valign=\"top\">TransnetBW</th>\n",
       "      <th>2019</th>\n",
       "      <td>37.772366</td>\n",
       "    </tr>\n",
       "    <tr>\n",
       "      <th>2020</th>\n",
       "      <td>25.731053</td>\n",
       "    </tr>\n",
       "  </tbody>\n",
       "</table>\n",
       "</div>"
      ],
      "text/plain": [
       "                   12:00:00\n",
       "Company    Date            \n",
       "50Hertz    2019  142.473282\n",
       "           2020  163.398496\n",
       "Amprion    2019  100.572519\n",
       "           2020  101.357143\n",
       "TenneTTSO  2019  149.229466\n",
       "           2020  162.944436\n",
       "TransnetBW 2019   37.772366\n",
       "           2020   25.731053"
      ]
     },
     "execution_count": 70,
     "metadata": {},
     "output_type": "execute_result"
    }
   ],
   "source": [
    "noon"
   ]
  },
  {
   "cell_type": "markdown",
   "metadata": {},
   "source": [
    "Create a horizontal bar chart for each dataset."
   ]
  },
  {
   "cell_type": "code",
   "execution_count": 83,
   "metadata": {},
   "outputs": [
    {
     "data": {
      "image/png": "[encoded data removed]",
      "text/plain": [
       "<Figure size 432x288 with 1 Axes>"
      ]
     },
     "metadata": {
      "needs_background": "light"
     },
     "output_type": "display_data"
    }
   ],
   "source": [
    "midnight_plot = midnight.sort_values(by='00:00:00').plot(kind='barh', title='TW/hours by Company/Year @ Midnight', legend=False)"
   ]
  },
  {
   "cell_type": "code",
   "execution_count": 82,
   "metadata": {},
   "outputs": [
    {
     "data": {
      "image/png": "[encoded data removed]",
      "text/plain": [
       "<Figure size 432x288 with 1 Axes>"
      ]
     },
     "metadata": {
      "needs_background": "light"
     },
     "output_type": "display_data"
    }
   ],
   "source": [
    "noon_plot = noon.sort_values(by='12:00:00').plot(kind='barh', color='red', title='TW/hours by Company/Year @ Noon', legend=False)"
   ]
  },
  {
   "cell_type": "code",
   "execution_count": 88,
   "metadata": {},
   "outputs": [
    {
     "ename": "TypeError",
     "evalue": "float() argument must be a string or a number, not 'AxesSubplot'",
     "output_type": "error",
     "traceback": [
      "\u001b[1;31m---------------------------------------------------------------------------\u001b[0m",
      "\u001b[1;31mTypeError\u001b[0m                                 Traceback (most recent call last)",
      "\u001b[1;32m<ipython-input-88-51c91fc64f46>\u001b[0m in \u001b[0;36m<module>\u001b[1;34m\u001b[0m\n\u001b[0;32m      1\u001b[0m \u001b[0mfig\u001b[0m\u001b[1;33m,\u001b[0m \u001b[0maxs\u001b[0m \u001b[1;33m=\u001b[0m \u001b[0mplt\u001b[0m\u001b[1;33m.\u001b[0m\u001b[0msubplots\u001b[0m\u001b[1;33m(\u001b[0m\u001b[1;36m2\u001b[0m\u001b[1;33m)\u001b[0m\u001b[1;33m\u001b[0m\u001b[1;33m\u001b[0m\u001b[0m\n\u001b[1;32m----> 2\u001b[1;33m \u001b[0maxs\u001b[0m\u001b[1;33m[\u001b[0m\u001b[1;36m0\u001b[0m\u001b[1;33m]\u001b[0m\u001b[1;33m.\u001b[0m\u001b[0mplot\u001b[0m\u001b[1;33m(\u001b[0m\u001b[0mmidnight_plot\u001b[0m\u001b[1;33m)\u001b[0m\u001b[1;33m\u001b[0m\u001b[1;33m\u001b[0m\u001b[0m\n\u001b[0m\u001b[0;32m      3\u001b[0m \u001b[0maxs\u001b[0m\u001b[1;33m[\u001b[0m\u001b[1;36m1\u001b[0m\u001b[1;33m]\u001b[0m\u001b[1;33m.\u001b[0m\u001b[0mplot\u001b[0m\u001b[1;33m(\u001b[0m\u001b[0mnoon_plot\u001b[0m\u001b[1;33m)\u001b[0m\u001b[1;33m\u001b[0m\u001b[1;33m\u001b[0m\u001b[0m\n",
      "\u001b[1;32m~\\anaconda3\\lib\\site-packages\\matplotlib\\axes\\_axes.py\u001b[0m in \u001b[0;36mplot\u001b[1;34m(self, scalex, scaley, data, *args, **kwargs)\u001b[0m\n\u001b[0;32m   1743\u001b[0m         \u001b[0mlines\u001b[0m \u001b[1;33m=\u001b[0m \u001b[1;33m[\u001b[0m\u001b[1;33m*\u001b[0m\u001b[0mself\u001b[0m\u001b[1;33m.\u001b[0m\u001b[0m_get_lines\u001b[0m\u001b[1;33m(\u001b[0m\u001b[1;33m*\u001b[0m\u001b[0margs\u001b[0m\u001b[1;33m,\u001b[0m \u001b[0mdata\u001b[0m\u001b[1;33m=\u001b[0m\u001b[0mdata\u001b[0m\u001b[1;33m,\u001b[0m \u001b[1;33m**\u001b[0m\u001b[0mkwargs\u001b[0m\u001b[1;33m)\u001b[0m\u001b[1;33m]\u001b[0m\u001b[1;33m\u001b[0m\u001b[1;33m\u001b[0m\u001b[0m\n\u001b[0;32m   1744\u001b[0m         \u001b[1;32mfor\u001b[0m \u001b[0mline\u001b[0m \u001b[1;32min\u001b[0m \u001b[0mlines\u001b[0m\u001b[1;33m:\u001b[0m\u001b[1;33m\u001b[0m\u001b[1;33m\u001b[0m\u001b[0m\n\u001b[1;32m-> 1745\u001b[1;33m             \u001b[0mself\u001b[0m\u001b[1;33m.\u001b[0m\u001b[0madd_line\u001b[0m\u001b[1;33m(\u001b[0m\u001b[0mline\u001b[0m\u001b[1;33m)\u001b[0m\u001b[1;33m\u001b[0m\u001b[1;33m\u001b[0m\u001b[0m\n\u001b[0m\u001b[0;32m   1746\u001b[0m         \u001b[0mself\u001b[0m\u001b[1;33m.\u001b[0m\u001b[0m_request_autoscale_view\u001b[0m\u001b[1;33m(\u001b[0m\u001b[0mscalex\u001b[0m\u001b[1;33m=\u001b[0m\u001b[0mscalex\u001b[0m\u001b[1;33m,\u001b[0m \u001b[0mscaley\u001b[0m\u001b[1;33m=\u001b[0m\u001b[0mscaley\u001b[0m\u001b[1;33m)\u001b[0m\u001b[1;33m\u001b[0m\u001b[1;33m\u001b[0m\u001b[0m\n\u001b[0;32m   1747\u001b[0m         \u001b[1;32mreturn\u001b[0m \u001b[0mlines\u001b[0m\u001b[1;33m\u001b[0m\u001b[1;33m\u001b[0m\u001b[0m\n",
      "\u001b[1;32m~\\anaconda3\\lib\\site-packages\\matplotlib\\axes\\_base.py\u001b[0m in \u001b[0;36madd_line\u001b[1;34m(self, line)\u001b[0m\n\u001b[0;32m   1962\u001b[0m             \u001b[0mline\u001b[0m\u001b[1;33m.\u001b[0m\u001b[0mset_clip_path\u001b[0m\u001b[1;33m(\u001b[0m\u001b[0mself\u001b[0m\u001b[1;33m.\u001b[0m\u001b[0mpatch\u001b[0m\u001b[1;33m)\u001b[0m\u001b[1;33m\u001b[0m\u001b[1;33m\u001b[0m\u001b[0m\n\u001b[0;32m   1963\u001b[0m \u001b[1;33m\u001b[0m\u001b[0m\n\u001b[1;32m-> 1964\u001b[1;33m         \u001b[0mself\u001b[0m\u001b[1;33m.\u001b[0m\u001b[0m_update_line_limits\u001b[0m\u001b[1;33m(\u001b[0m\u001b[0mline\u001b[0m\u001b[1;33m)\u001b[0m\u001b[1;33m\u001b[0m\u001b[1;33m\u001b[0m\u001b[0m\n\u001b[0m\u001b[0;32m   1965\u001b[0m         \u001b[1;32mif\u001b[0m \u001b[1;32mnot\u001b[0m \u001b[0mline\u001b[0m\u001b[1;33m.\u001b[0m\u001b[0mget_label\u001b[0m\u001b[1;33m(\u001b[0m\u001b[1;33m)\u001b[0m\u001b[1;33m:\u001b[0m\u001b[1;33m\u001b[0m\u001b[1;33m\u001b[0m\u001b[0m\n\u001b[0;32m   1966\u001b[0m             \u001b[0mline\u001b[0m\u001b[1;33m.\u001b[0m\u001b[0mset_label\u001b[0m\u001b[1;33m(\u001b[0m\u001b[1;34m'_line%d'\u001b[0m \u001b[1;33m%\u001b[0m \u001b[0mlen\u001b[0m\u001b[1;33m(\u001b[0m\u001b[0mself\u001b[0m\u001b[1;33m.\u001b[0m\u001b[0mlines\u001b[0m\u001b[1;33m)\u001b[0m\u001b[1;33m)\u001b[0m\u001b[1;33m\u001b[0m\u001b[1;33m\u001b[0m\u001b[0m\n",
      "\u001b[1;32m~\\anaconda3\\lib\\site-packages\\matplotlib\\axes\\_base.py\u001b[0m in \u001b[0;36m_update_line_limits\u001b[1;34m(self, line)\u001b[0m\n\u001b[0;32m   1984\u001b[0m         \u001b[0mFigures\u001b[0m \u001b[0mout\u001b[0m \u001b[0mthe\u001b[0m \u001b[0mdata\u001b[0m \u001b[0mlimit\u001b[0m \u001b[0mof\u001b[0m \u001b[0mthe\u001b[0m \u001b[0mgiven\u001b[0m \u001b[0mline\u001b[0m\u001b[1;33m,\u001b[0m \u001b[0mupdating\u001b[0m \u001b[0mself\u001b[0m\u001b[1;33m.\u001b[0m\u001b[0mdataLim\u001b[0m\u001b[1;33m.\u001b[0m\u001b[1;33m\u001b[0m\u001b[1;33m\u001b[0m\u001b[0m\n\u001b[0;32m   1985\u001b[0m         \"\"\"\n\u001b[1;32m-> 1986\u001b[1;33m         \u001b[0mpath\u001b[0m \u001b[1;33m=\u001b[0m \u001b[0mline\u001b[0m\u001b[1;33m.\u001b[0m\u001b[0mget_path\u001b[0m\u001b[1;33m(\u001b[0m\u001b[1;33m)\u001b[0m\u001b[1;33m\u001b[0m\u001b[1;33m\u001b[0m\u001b[0m\n\u001b[0m\u001b[0;32m   1987\u001b[0m         \u001b[1;32mif\u001b[0m \u001b[0mpath\u001b[0m\u001b[1;33m.\u001b[0m\u001b[0mvertices\u001b[0m\u001b[1;33m.\u001b[0m\u001b[0msize\u001b[0m \u001b[1;33m==\u001b[0m \u001b[1;36m0\u001b[0m\u001b[1;33m:\u001b[0m\u001b[1;33m\u001b[0m\u001b[1;33m\u001b[0m\u001b[0m\n\u001b[0;32m   1988\u001b[0m             \u001b[1;32mreturn\u001b[0m\u001b[1;33m\u001b[0m\u001b[1;33m\u001b[0m\u001b[0m\n",
      "\u001b[1;32m~\\anaconda3\\lib\\site-packages\\matplotlib\\lines.py\u001b[0m in \u001b[0;36mget_path\u001b[1;34m(self)\u001b[0m\n\u001b[0;32m   1009\u001b[0m         \"\"\"\n\u001b[0;32m   1010\u001b[0m         \u001b[1;32mif\u001b[0m \u001b[0mself\u001b[0m\u001b[1;33m.\u001b[0m\u001b[0m_invalidy\u001b[0m \u001b[1;32mor\u001b[0m \u001b[0mself\u001b[0m\u001b[1;33m.\u001b[0m\u001b[0m_invalidx\u001b[0m\u001b[1;33m:\u001b[0m\u001b[1;33m\u001b[0m\u001b[1;33m\u001b[0m\u001b[0m\n\u001b[1;32m-> 1011\u001b[1;33m             \u001b[0mself\u001b[0m\u001b[1;33m.\u001b[0m\u001b[0mrecache\u001b[0m\u001b[1;33m(\u001b[0m\u001b[1;33m)\u001b[0m\u001b[1;33m\u001b[0m\u001b[1;33m\u001b[0m\u001b[0m\n\u001b[0m\u001b[0;32m   1012\u001b[0m         \u001b[1;32mreturn\u001b[0m \u001b[0mself\u001b[0m\u001b[1;33m.\u001b[0m\u001b[0m_path\u001b[0m\u001b[1;33m\u001b[0m\u001b[1;33m\u001b[0m\u001b[0m\n\u001b[0;32m   1013\u001b[0m \u001b[1;33m\u001b[0m\u001b[0m\n",
      "\u001b[1;32m~\\anaconda3\\lib\\site-packages\\matplotlib\\lines.py\u001b[0m in \u001b[0;36mrecache\u001b[1;34m(self, always)\u001b[0m\n\u001b[0;32m    656\u001b[0m         \u001b[1;32mif\u001b[0m \u001b[0malways\u001b[0m \u001b[1;32mor\u001b[0m \u001b[0mself\u001b[0m\u001b[1;33m.\u001b[0m\u001b[0m_invalidy\u001b[0m\u001b[1;33m:\u001b[0m\u001b[1;33m\u001b[0m\u001b[1;33m\u001b[0m\u001b[0m\n\u001b[0;32m    657\u001b[0m             \u001b[0myconv\u001b[0m \u001b[1;33m=\u001b[0m \u001b[0mself\u001b[0m\u001b[1;33m.\u001b[0m\u001b[0mconvert_yunits\u001b[0m\u001b[1;33m(\u001b[0m\u001b[0mself\u001b[0m\u001b[1;33m.\u001b[0m\u001b[0m_yorig\u001b[0m\u001b[1;33m)\u001b[0m\u001b[1;33m\u001b[0m\u001b[1;33m\u001b[0m\u001b[0m\n\u001b[1;32m--> 658\u001b[1;33m             \u001b[0my\u001b[0m \u001b[1;33m=\u001b[0m \u001b[0m_to_unmasked_float_array\u001b[0m\u001b[1;33m(\u001b[0m\u001b[0myconv\u001b[0m\u001b[1;33m)\u001b[0m\u001b[1;33m.\u001b[0m\u001b[0mravel\u001b[0m\u001b[1;33m(\u001b[0m\u001b[1;33m)\u001b[0m\u001b[1;33m\u001b[0m\u001b[1;33m\u001b[0m\u001b[0m\n\u001b[0m\u001b[0;32m    659\u001b[0m         \u001b[1;32melse\u001b[0m\u001b[1;33m:\u001b[0m\u001b[1;33m\u001b[0m\u001b[1;33m\u001b[0m\u001b[0m\n\u001b[0;32m    660\u001b[0m             \u001b[0my\u001b[0m \u001b[1;33m=\u001b[0m \u001b[0mself\u001b[0m\u001b[1;33m.\u001b[0m\u001b[0m_y\u001b[0m\u001b[1;33m\u001b[0m\u001b[1;33m\u001b[0m\u001b[0m\n",
      "\u001b[1;32m~\\anaconda3\\lib\\site-packages\\matplotlib\\cbook\\__init__.py\u001b[0m in \u001b[0;36m_to_unmasked_float_array\u001b[1;34m(x)\u001b[0m\n\u001b[0;32m   1287\u001b[0m         \u001b[1;32mreturn\u001b[0m \u001b[0mnp\u001b[0m\u001b[1;33m.\u001b[0m\u001b[0mma\u001b[0m\u001b[1;33m.\u001b[0m\u001b[0masarray\u001b[0m\u001b[1;33m(\u001b[0m\u001b[0mx\u001b[0m\u001b[1;33m,\u001b[0m \u001b[0mfloat\u001b[0m\u001b[1;33m)\u001b[0m\u001b[1;33m.\u001b[0m\u001b[0mfilled\u001b[0m\u001b[1;33m(\u001b[0m\u001b[0mnp\u001b[0m\u001b[1;33m.\u001b[0m\u001b[0mnan\u001b[0m\u001b[1;33m)\u001b[0m\u001b[1;33m\u001b[0m\u001b[1;33m\u001b[0m\u001b[0m\n\u001b[0;32m   1288\u001b[0m     \u001b[1;32melse\u001b[0m\u001b[1;33m:\u001b[0m\u001b[1;33m\u001b[0m\u001b[1;33m\u001b[0m\u001b[0m\n\u001b[1;32m-> 1289\u001b[1;33m         \u001b[1;32mreturn\u001b[0m \u001b[0mnp\u001b[0m\u001b[1;33m.\u001b[0m\u001b[0masarray\u001b[0m\u001b[1;33m(\u001b[0m\u001b[0mx\u001b[0m\u001b[1;33m,\u001b[0m \u001b[0mfloat\u001b[0m\u001b[1;33m)\u001b[0m\u001b[1;33m\u001b[0m\u001b[1;33m\u001b[0m\u001b[0m\n\u001b[0m\u001b[0;32m   1290\u001b[0m \u001b[1;33m\u001b[0m\u001b[0m\n\u001b[0;32m   1291\u001b[0m \u001b[1;33m\u001b[0m\u001b[0m\n",
      "\u001b[1;32m~\\anaconda3\\lib\\site-packages\\numpy\\core\\_asarray.py\u001b[0m in \u001b[0;36masarray\u001b[1;34m(a, dtype, order)\u001b[0m\n\u001b[0;32m     81\u001b[0m \u001b[1;33m\u001b[0m\u001b[0m\n\u001b[0;32m     82\u001b[0m     \"\"\"\n\u001b[1;32m---> 83\u001b[1;33m     \u001b[1;32mreturn\u001b[0m \u001b[0marray\u001b[0m\u001b[1;33m(\u001b[0m\u001b[0ma\u001b[0m\u001b[1;33m,\u001b[0m \u001b[0mdtype\u001b[0m\u001b[1;33m,\u001b[0m \u001b[0mcopy\u001b[0m\u001b[1;33m=\u001b[0m\u001b[1;32mFalse\u001b[0m\u001b[1;33m,\u001b[0m \u001b[0morder\u001b[0m\u001b[1;33m=\u001b[0m\u001b[0morder\u001b[0m\u001b[1;33m)\u001b[0m\u001b[1;33m\u001b[0m\u001b[1;33m\u001b[0m\u001b[0m\n\u001b[0m\u001b[0;32m     84\u001b[0m \u001b[1;33m\u001b[0m\u001b[0m\n\u001b[0;32m     85\u001b[0m \u001b[1;33m\u001b[0m\u001b[0m\n",
      "\u001b[1;31mTypeError\u001b[0m: float() argument must be a string or a number, not 'AxesSubplot'"
     ]
    },
    {
     "data": {
      "image/png": "[encoded data removed]",
      "text/plain": [
       "<Figure size 432x288 with 2 Axes>"
      ]
     },
     "metadata": {
      "needs_background": "light"
     },
     "output_type": "display_data"
    }
   ],
   "source": [
    "fig, axs = plt.subplots(2)\n",
    "axs[0].plot(midnight_plot)\n",
    "axs[1].plot(noon_plot)"
   ]
  },
  {
   "cell_type": "code",
   "execution_count": null,
   "metadata": {},
   "outputs": [],
   "source": []
  }
 ],
 "metadata": {
  "kernelspec": {
   "display_name": "Python 3",
   "language": "python",
   "name": "python3"
  },
  "language_info": {
   "codemirror_mode": {
    "name": "ipython",
    "version": 3
   },
   "file_extension": ".py",
   "mimetype": "text/x-python",
   "name": "python",
   "nbconvert_exporter": "python",
   "pygments_lexer": "ipython3",
   "version": "3.8.5"
  }
 },
 "nbformat": 4,
 "nbformat_minor": 4
}
